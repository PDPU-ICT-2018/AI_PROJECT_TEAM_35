{
 "cells": [
  {
   "cell_type": "code",
   "execution_count": 1,
   "metadata": {},
   "outputs": [],
   "source": [
    "import os\n",
    "import pandas as pd\n",
    "import numpy as np\n",
    "import pandas as pd\n",
    "import statsmodels.api as sm\n",
    "from numpy import *\n",
    "from math import sqrt\n",
    "from pandas import *\n",
    "from datetime import datetime, timedelta\n",
    "import matplotlib.pyplot as plt\n",
    "from sklearn.preprocessing import MinMaxScaler\n",
    "from pickle import dump"
   ]
  },
  {
   "cell_type": "code",
   "execution_count": 2,
   "metadata": {},
   "outputs": [],
   "source": [
    "#Reading The Final DataSet\n",
    "dataset = pd.read_csv('Final_Data.csv', parse_dates=['date'])"
   ]
  },
  {
   "cell_type": "code",
   "execution_count": 3,
   "metadata": {},
   "outputs": [
    {
     "name": "stdout",
     "output_type": "stream",
     "text": [
      "<class 'pandas.core.frame.DataFrame'>\n",
      "RangeIndex: 5376 entries, 0 to 5375\n",
      "Data columns (total 56 columns):\n",
      " #   Column         Non-Null Count  Dtype         \n",
      "---  ------         --------------  -----         \n",
      " 0   date           5376 non-null   datetime64[ns]\n",
      " 1   date.1         5376 non-null   object        \n",
      " 2   GS_open        5376 non-null   float64       \n",
      " 3   GS_high        5376 non-null   float64       \n",
      " 4   GS_low         5376 non-null   float64       \n",
      " 5   GS_close       5376 non-null   float64       \n",
      " 6   GS_aclose      5376 non-null   float64       \n",
      " 7   GS_volume      5376 non-null   float64       \n",
      " 8   MS_open        5376 non-null   float64       \n",
      " 9   MS_high        5376 non-null   float64       \n",
      " 10  MS_low         5376 non-null   float64       \n",
      " 11  MS_close       5376 non-null   float64       \n",
      " 12  MS_aclose      5376 non-null   float64       \n",
      " 13  MS_volume      5376 non-null   float64       \n",
      " 14  JPM_open       5376 non-null   float64       \n",
      " 15  JPM_high       5376 non-null   float64       \n",
      " 16  JPM_low        5376 non-null   float64       \n",
      " 17  JPM_close      5376 non-null   float64       \n",
      " 18  JPM_aclose     5376 non-null   float64       \n",
      " 19  JPM_volume     5376 non-null   float64       \n",
      " 20  WFC_open       5376 non-null   float64       \n",
      " 21  WFC_high       5376 non-null   float64       \n",
      " 22  WFC_low        5376 non-null   float64       \n",
      " 23  WFC_close      5376 non-null   float64       \n",
      " 24  WFC_aclose     5376 non-null   float64       \n",
      " 25  WFC_volume     5376 non-null   float64       \n",
      " 26  C_open         5376 non-null   float64       \n",
      " 27  C_high         5376 non-null   float64       \n",
      " 28  C_low          5376 non-null   float64       \n",
      " 29  C_close        5376 non-null   float64       \n",
      " 30  C_aclose       5376 non-null   float64       \n",
      " 31  C_volume       5376 non-null   float64       \n",
      " 32  BAC_open       5376 non-null   float64       \n",
      " 33  BAC_high       5376 non-null   float64       \n",
      " 34  BAC_low        5376 non-null   float64       \n",
      " 35  BAC_close      5376 non-null   float64       \n",
      " 36  BAC_aclose     5376 non-null   float64       \n",
      " 37  BAC_volume     5376 non-null   float64       \n",
      " 38  GS_SMA7        5376 non-null   float64       \n",
      " 39  GS_SMA21       5376 non-null   float64       \n",
      " 40  GS_EMA21       5376 non-null   float64       \n",
      " 41  GS_MACD_Hist   5376 non-null   float64       \n",
      " 42  GS_MACD        5376 non-null   float64       \n",
      " 43  GS_MACD_sig    5376 non-null   float64       \n",
      " 44  GS_Lower       5376 non-null   float64       \n",
      " 45  GS_Upper       5376 non-null   float64       \n",
      " 46  GS_Middle      5376 non-null   float64       \n",
      " 47  GS_SlowD       5376 non-null   float64       \n",
      " 48  GS_SlowK       5376 non-null   float64       \n",
      " 49  GS_RSI         5376 non-null   float64       \n",
      " 50  GS_ADX         5376 non-null   float64       \n",
      " 51  GS_CCI         5376 non-null   float64       \n",
      " 52  GS_aroon_up    5376 non-null   float64       \n",
      " 53  GS_aroon_down  5376 non-null   float64       \n",
      " 54  GS_AD          5376 non-null   float64       \n",
      " 55  GS_OBV         5376 non-null   float64       \n",
      "dtypes: datetime64[ns](1), float64(54), object(1)\n",
      "memory usage: 2.3+ MB\n"
     ]
    }
   ],
   "source": [
    "dataset.info()"
   ]
  },
  {
   "cell_type": "code",
   "execution_count": 4,
   "metadata": {},
   "outputs": [],
   "source": [
    "#Dropping An Extra Column date.1\n",
    "dataset = dataset.drop(columns = 'date.1')"
   ]
  },
  {
   "cell_type": "code",
   "execution_count": 5,
   "metadata": {},
   "outputs": [
    {
     "name": "stdout",
     "output_type": "stream",
     "text": [
      "['date', 'GS_open', 'GS_high', 'GS_low', 'GS_close', 'GS_aclose', 'GS_volume', 'MS_open', 'MS_high', 'MS_low', 'MS_close', 'MS_aclose', 'MS_volume', 'JPM_open', 'JPM_high', 'JPM_low', 'JPM_close', 'JPM_aclose', 'JPM_volume', 'WFC_open', 'WFC_high', 'WFC_low', 'WFC_close', 'WFC_aclose', 'WFC_volume', 'C_open', 'C_high', 'C_low', 'C_close', 'C_aclose', 'C_volume', 'BAC_open', 'BAC_high', 'BAC_low', 'BAC_close', 'BAC_aclose', 'BAC_volume', 'GS_SMA7', 'GS_SMA21', 'GS_EMA21', 'GS_MACD_Hist', 'GS_MACD', 'GS_MACD_sig', 'GS_Lower', 'GS_Upper', 'GS_Middle', 'GS_SlowD', 'GS_SlowK', 'GS_RSI', 'GS_ADX', 'GS_CCI', 'GS_aroon_up', 'GS_aroon_down', 'GS_AD', 'GS_OBV']\n"
     ]
    }
   ],
   "source": [
    "columns = list(dataset.columns)\n",
    "print(columns)"
   ]
  },
  {
   "cell_type": "code",
   "execution_count": 6,
   "metadata": {},
   "outputs": [],
   "source": [
    "col1 = ['date','GS_close','GS_open', 'GS_high', 'GS_low','GS_aclose', 'GS_volume', 'MS_open', 'MS_high', 'MS_low', 'MS_close', 'MS_aclose', 'MS_volume', 'JPM_open', 'JPM_high', 'JPM_low', 'JPM_close', 'JPM_aclose', 'JPM_volume', 'WFC_open', 'WFC_high', 'WFC_low', 'WFC_close', 'WFC_aclose', 'WFC_volume', 'C_open', 'C_high', 'C_low', 'C_close', 'C_aclose', 'C_volume', 'BAC_open', 'BAC_high', 'BAC_low', 'BAC_close', 'BAC_aclose', 'BAC_volume', 'GS_SMA7', 'GS_SMA21', 'GS_EMA21', 'GS_MACD_Hist', 'GS_MACD', 'GS_MACD_sig', 'GS_Lower', 'GS_Upper', 'GS_Middle', 'GS_SlowD', 'GS_SlowK', 'GS_RSI', 'GS_ADX', 'GS_CCI', 'GS_aroon_up', 'GS_aroon_down', 'GS_AD', 'GS_OBV']"
   ]
  },
  {
   "cell_type": "code",
   "execution_count": 7,
   "metadata": {},
   "outputs": [],
   "source": [
    "#Rearranging Columns Of DataSet For Easy ETL Operation\n",
    "dataset = dataset.reindex(columns = col1)"
   ]
  },
  {
   "cell_type": "code",
   "execution_count": 8,
   "metadata": {},
   "outputs": [
    {
     "data": {
      "text/html": [
       "<div>\n",
       "<style scoped>\n",
       "    .dataframe tbody tr th:only-of-type {\n",
       "        vertical-align: middle;\n",
       "    }\n",
       "\n",
       "    .dataframe tbody tr th {\n",
       "        vertical-align: top;\n",
       "    }\n",
       "\n",
       "    .dataframe thead th {\n",
       "        text-align: right;\n",
       "    }\n",
       "</style>\n",
       "<table border=\"1\" class=\"dataframe\">\n",
       "  <thead>\n",
       "    <tr style=\"text-align: right;\">\n",
       "      <th></th>\n",
       "      <th>date</th>\n",
       "      <th>GS_close</th>\n",
       "      <th>GS_open</th>\n",
       "      <th>GS_high</th>\n",
       "      <th>GS_low</th>\n",
       "      <th>GS_aclose</th>\n",
       "      <th>GS_volume</th>\n",
       "      <th>MS_open</th>\n",
       "      <th>MS_high</th>\n",
       "      <th>MS_low</th>\n",
       "      <th>...</th>\n",
       "      <th>GS_Middle</th>\n",
       "      <th>GS_SlowD</th>\n",
       "      <th>GS_SlowK</th>\n",
       "      <th>GS_RSI</th>\n",
       "      <th>GS_ADX</th>\n",
       "      <th>GS_CCI</th>\n",
       "      <th>GS_aroon_up</th>\n",
       "      <th>GS_aroon_down</th>\n",
       "      <th>GS_AD</th>\n",
       "      <th>GS_OBV</th>\n",
       "    </tr>\n",
       "  </thead>\n",
       "  <tbody>\n",
       "    <tr>\n",
       "      <th>0</th>\n",
       "      <td>1999-12-17</td>\n",
       "      <td>80.19</td>\n",
       "      <td>80.19</td>\n",
       "      <td>80.56</td>\n",
       "      <td>78.44</td>\n",
       "      <td>62.584489</td>\n",
       "      <td>542100.0</td>\n",
       "      <td>126.00</td>\n",
       "      <td>131.88</td>\n",
       "      <td>125.88</td>\n",
       "      <td>...</td>\n",
       "      <td>61.3881</td>\n",
       "      <td>33.0107</td>\n",
       "      <td>31.7277</td>\n",
       "      <td>58.4142</td>\n",
       "      <td>32.1890</td>\n",
       "      <td>43.7838</td>\n",
       "      <td>12.0</td>\n",
       "      <td>0.0</td>\n",
       "      <td>1.773897e+06</td>\n",
       "      <td>7640300.0</td>\n",
       "    </tr>\n",
       "    <tr>\n",
       "      <th>1</th>\n",
       "      <td>1999-12-20</td>\n",
       "      <td>81.88</td>\n",
       "      <td>82.00</td>\n",
       "      <td>83.63</td>\n",
       "      <td>80.75</td>\n",
       "      <td>63.903453</td>\n",
       "      <td>1302600.0</td>\n",
       "      <td>131.75</td>\n",
       "      <td>132.62</td>\n",
       "      <td>128.25</td>\n",
       "      <td>...</td>\n",
       "      <td>61.4638</td>\n",
       "      <td>32.7261</td>\n",
       "      <td>44.2862</td>\n",
       "      <td>61.6881</td>\n",
       "      <td>32.2930</td>\n",
       "      <td>134.1180</td>\n",
       "      <td>100.0</td>\n",
       "      <td>0.0</td>\n",
       "      <td>1.493476e+06</td>\n",
       "      <td>8942900.0</td>\n",
       "    </tr>\n",
       "    <tr>\n",
       "      <th>2</th>\n",
       "      <td>1999-12-21</td>\n",
       "      <td>80.94</td>\n",
       "      <td>80.63</td>\n",
       "      <td>83.00</td>\n",
       "      <td>79.50</td>\n",
       "      <td>63.169828</td>\n",
       "      <td>1189900.0</td>\n",
       "      <td>128.50</td>\n",
       "      <td>131.50</td>\n",
       "      <td>126.75</td>\n",
       "      <td>...</td>\n",
       "      <td>61.5125</td>\n",
       "      <td>44.3939</td>\n",
       "      <td>57.1678</td>\n",
       "      <td>58.9101</td>\n",
       "      <td>31.6787</td>\n",
       "      <td>88.0679</td>\n",
       "      <td>96.0</td>\n",
       "      <td>36.0</td>\n",
       "      <td>1.282694e+06</td>\n",
       "      <td>7753000.0</td>\n",
       "    </tr>\n",
       "    <tr>\n",
       "      <th>3</th>\n",
       "      <td>1999-12-22</td>\n",
       "      <td>79.69</td>\n",
       "      <td>81.00</td>\n",
       "      <td>81.38</td>\n",
       "      <td>79.13</td>\n",
       "      <td>62.194262</td>\n",
       "      <td>526800.0</td>\n",
       "      <td>130.00</td>\n",
       "      <td>130.38</td>\n",
       "      <td>128.88</td>\n",
       "      <td>...</td>\n",
       "      <td>61.5882</td>\n",
       "      <td>51.3161</td>\n",
       "      <td>52.4943</td>\n",
       "      <td>55.3411</td>\n",
       "      <td>30.9034</td>\n",
       "      <td>41.9883</td>\n",
       "      <td>92.0</td>\n",
       "      <td>32.0</td>\n",
       "      <td>1.018123e+06</td>\n",
       "      <td>7226200.0</td>\n",
       "    </tr>\n",
       "    <tr>\n",
       "      <th>4</th>\n",
       "      <td>1999-12-23</td>\n",
       "      <td>81.00</td>\n",
       "      <td>81.00</td>\n",
       "      <td>82.44</td>\n",
       "      <td>80.69</td>\n",
       "      <td>63.216655</td>\n",
       "      <td>532000.0</td>\n",
       "      <td>131.00</td>\n",
       "      <td>132.00</td>\n",
       "      <td>130.81</td>\n",
       "      <td>...</td>\n",
       "      <td>61.7393</td>\n",
       "      <td>51.7285</td>\n",
       "      <td>45.5235</td>\n",
       "      <td>58.1993</td>\n",
       "      <td>30.5611</td>\n",
       "      <td>84.7023</td>\n",
       "      <td>88.0</td>\n",
       "      <td>28.0</td>\n",
       "      <td>6.746031e+05</td>\n",
       "      <td>7758200.0</td>\n",
       "    </tr>\n",
       "  </tbody>\n",
       "</table>\n",
       "<p>5 rows × 55 columns</p>\n",
       "</div>"
      ],
      "text/plain": [
       "        date  GS_close  GS_open  GS_high  GS_low  GS_aclose  GS_volume  \\\n",
       "0 1999-12-17     80.19    80.19    80.56   78.44  62.584489   542100.0   \n",
       "1 1999-12-20     81.88    82.00    83.63   80.75  63.903453  1302600.0   \n",
       "2 1999-12-21     80.94    80.63    83.00   79.50  63.169828  1189900.0   \n",
       "3 1999-12-22     79.69    81.00    81.38   79.13  62.194262   526800.0   \n",
       "4 1999-12-23     81.00    81.00    82.44   80.69  63.216655   532000.0   \n",
       "\n",
       "   MS_open  MS_high  MS_low  ...  GS_Middle  GS_SlowD  GS_SlowK   GS_RSI  \\\n",
       "0   126.00   131.88  125.88  ...    61.3881   33.0107   31.7277  58.4142   \n",
       "1   131.75   132.62  128.25  ...    61.4638   32.7261   44.2862  61.6881   \n",
       "2   128.50   131.50  126.75  ...    61.5125   44.3939   57.1678  58.9101   \n",
       "3   130.00   130.38  128.88  ...    61.5882   51.3161   52.4943  55.3411   \n",
       "4   131.00   132.00  130.81  ...    61.7393   51.7285   45.5235  58.1993   \n",
       "\n",
       "    GS_ADX    GS_CCI  GS_aroon_up  GS_aroon_down         GS_AD     GS_OBV  \n",
       "0  32.1890   43.7838         12.0            0.0  1.773897e+06  7640300.0  \n",
       "1  32.2930  134.1180        100.0            0.0  1.493476e+06  8942900.0  \n",
       "2  31.6787   88.0679         96.0           36.0  1.282694e+06  7753000.0  \n",
       "3  30.9034   41.9883         92.0           32.0  1.018123e+06  7226200.0  \n",
       "4  30.5611   84.7023         88.0           28.0  6.746031e+05  7758200.0  \n",
       "\n",
       "[5 rows x 55 columns]"
      ]
     },
     "execution_count": 8,
     "metadata": {},
     "output_type": "execute_result"
    }
   ],
   "source": [
    "dataset.head()"
   ]
  },
  {
   "cell_type": "code",
   "execution_count": 9,
   "metadata": {},
   "outputs": [],
   "source": [
    "#Sperating Date's From The DataSet For Easy Operation When It Passes Through an LSTM Network\n",
    "datetime_series = pd.to_datetime(dataset['date'])\n",
    "datetime_index = pd.DatetimeIndex(datetime_series.values)\n",
    "dataset = dataset.set_index(datetime_index)\n",
    "dataset = dataset.sort_values(by='date')\n",
    "dataset = dataset.drop(columns='date')"
   ]
  },
  {
   "cell_type": "code",
   "execution_count": 10,
   "metadata": {},
   "outputs": [],
   "source": [
    "#Seperating The Dependent and Independent Variables\n",
    "X_value = pd.DataFrame(dataset.iloc[:, 1:])\n",
    "Y_value = pd.DataFrame(dataset.iloc[:, 0])"
   ]
  },
  {
   "cell_type": "code",
   "execution_count": 11,
   "metadata": {},
   "outputs": [
    {
     "data": {
      "image/png": "[encoded data removed]",
      "text/plain": [
       "<Figure size 432x288 with 1 Axes>"
      ]
     },
     "metadata": {
      "needs_background": "light"
     },
     "output_type": "display_data"
    }
   ],
   "source": [
    "#Plotting an AutoCorrelation Plot\n",
    "sm.graphics.tsa.plot_acf(Y_value.squeeze(), lags=100)\n",
    "plt.show()"
   ]
  },
  {
   "cell_type": "code",
   "execution_count": 12,
   "metadata": {},
   "outputs": [],
   "source": [
    "#Scaling The Entire Data Between -1 to 1 as the neural network like LSTM responds well to these values.\n",
    "X_scaler = MinMaxScaler(feature_range=(-1, 1))\n",
    "Y_scaler = MinMaxScaler(feature_range=(-1, 1))\n",
    "X_scaler.fit(X_value)\n",
    "Y_scaler.fit(Y_value)\n",
    "\n",
    "X_scale_dataset = X_scaler.fit_transform(X_value)\n",
    "Y_scale_dataset = Y_scaler.fit_transform(Y_value)\n",
    "\n",
    "#Saving the scaler to reuse to rescale the predicted values to original form.\n",
    "dump(X_scaler, open('X_scaler.pkl', 'wb'))\n",
    "dump(Y_scaler, open('Y_scaler.pkl', 'wb'))"
   ]
  },
  {
   "cell_type": "code",
   "execution_count": 13,
   "metadata": {},
   "outputs": [],
   "source": [
    "n_steps_in = 17\n",
    "n_features = X_value.shape[1]\n",
    "n_steps_out = 1"
   ]
  },
  {
   "cell_type": "code",
   "execution_count": 14,
   "metadata": {},
   "outputs": [],
   "source": [
    "#Splitting Data Function_1\n",
    "def get_X_y(X_data, y_data):\n",
    "    X = list()\n",
    "    y = list()\n",
    "    yc = list()\n",
    "\n",
    "    length = len(X_data)\n",
    "    for i in range(0, length, 1):\n",
    "        X_value = X_data[i: i + n_steps_in][:, :]\n",
    "        y_value = y_data[i + n_steps_in: i + (n_steps_in + n_steps_out)][:, 0]\n",
    "        yc_value = y_data[i: i + n_steps_in][:, :]\n",
    "        if len(X_value) == 17 and len(y_value) == 1:\n",
    "            X.append(X_value)\n",
    "            y.append(y_value)\n",
    "            yc.append(yc_value)\n",
    "\n",
    "    return np.array(X), np.array(y), np.array(yc)"
   ]
  },
  {
   "cell_type": "code",
   "execution_count": 15,
   "metadata": {},
   "outputs": [],
   "source": [
    "#Splitting Data Function_1\n",
    "def predict_index(dataset, X_train, n_steps_in, n_steps_out):\n",
    "\n",
    "    # get the predict data (remove the in_steps days)\n",
    "    train_predict_index = dataset.iloc[n_steps_in : X_train.shape[0] + n_steps_in + n_steps_out - 1, :].index\n",
    "    test_predict_index = dataset.iloc[X_train.shape[0] + n_steps_in:, :].index\n",
    "\n",
    "    return train_predict_index, test_predict_index"
   ]
  },
  {
   "cell_type": "code",
   "execution_count": 16,
   "metadata": {},
   "outputs": [],
   "source": [
    "def split_train_test(data):\n",
    "    train_size = round(len(X) * 0.7)\n",
    "    data_train = data[0:train_size]\n",
    "    data_test = data[train_size:]\n",
    "    return data_train, data_test"
   ]
  },
  {
   "cell_type": "code",
   "execution_count": 17,
   "metadata": {},
   "outputs": [],
   "source": [
    "X, Y, Yc = get_X_y(X_scale_dataset, Y_scale_dataset)\n",
    "X_train, X_test, = split_train_test(X)\n",
    "Y_train, Y_test, = split_train_test(Y)\n",
    "Yc_train, Yc_test, = split_train_test(Yc)\n",
    "index_train, index_test, = predict_index(dataset, X_train, n_steps_in, n_steps_out)"
   ]
  },
  {
   "cell_type": "code",
   "execution_count": 19,
   "metadata": {},
   "outputs": [
    {
     "name": "stdout",
     "output_type": "stream",
     "text": [
      "X shape:  (5359, 17, 53)\n",
      "y shape:  (5359, 1)\n",
      "X_train shape:  (3751, 17, 53)\n",
      "y_train shape:  (3751, 1)\n",
      "y_c_train shape:  (3751, 17, 1)\n",
      "X_test shape:  (1608, 17, 53)\n",
      "y_test shape:  (1608, 1)\n",
      "y_c_test shape:  (1608, 17, 1)\n",
      "index_train shape: (3751,)\n",
      "index_test shape: (1608,)\n"
     ]
    }
   ],
   "source": [
    "print('X shape: ', X.shape)\n",
    "print('y shape: ', Y.shape)\n",
    "print('X_train shape: ', X_train.shape)\n",
    "print('y_train shape: ', Y_train.shape)\n",
    "print('y_c_train shape: ', Yc_train.shape)\n",
    "print('X_test shape: ', X_test.shape)\n",
    "print('y_test shape: ', Y_test.shape)\n",
    "print('y_c_test shape: ', Yc_test.shape)\n",
    "print('index_train shape:', index_train.shape)\n",
    "print('index_test shape:', index_test.shape)\n",
    "\n",
    "np.save(\"X_train.npy\", X_train)\n",
    "np.save(\"y_train.npy\", Y_train)\n",
    "np.save(\"X_test.npy\", X_test)\n",
    "np.save(\"y_test.npy\", Y_test)\n",
    "np.save(\"yc_train.npy\", Yc_train)\n",
    "np.save(\"yc_test.npy\", Yc_test)\n",
    "np.save('index_train.npy', index_train)\n",
    "np.save('index_test.npy', index_test)"
   ]
  },
  {
   "cell_type": "code",
   "execution_count": null,
   "metadata": {},
   "outputs": [],
   "source": []
  }
 ],
 "metadata": {
  "kernelspec": {
   "display_name": "Python 3",
   "language": "python",
   "name": "python3"
  },
  "language_info": {
   "codemirror_mode": {
    "name": "ipython",
    "version": 3
   },
   "file_extension": ".py",
   "mimetype": "text/x-python",
   "name": "python",
   "nbconvert_exporter": "python",
   "pygments_lexer": "ipython3",
   "version": "3.8.5"
  }
 },
 "nbformat": 4,
 "nbformat_minor": 4
}
