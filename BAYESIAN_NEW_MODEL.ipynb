{
 "cells": [
  {
   "cell_type": "code",
   "execution_count": 1,
   "metadata": {},
   "outputs": [],
   "source": [
    "import pandas as pd\n",
    "import numpy as np\n",
    "import matplotlib.pyplot as plt\n",
    "import tensorflow\n",
    "from math import sqrt\n",
    "from datetime import datetime,timedelta\n",
    "from sklearn.metrics import mean_squared_error\n",
    "from tensorflow.keras.models import Sequential\n",
    "from tensorflow.keras.layers import Dense, Dropout, Bidirectional\n",
    "from tensorflow.keras.layers import BatchNormalization, Embedding, TimeDistributed, LeakyReLU\n",
    "from tensorflow.keras.layers import LSTM, GRU\n",
    "from tensorflow.keras.optimizers import Adam\n",
    "from matplotlib import pyplot\n",
    "from pickle import load\n",
    "from numpy import *\n",
    "from pandas import *\n",
    "from kerastuner import HyperModel\n",
    "from kerastuner.tuners import BayesianOptimization"
   ]
  },
  {
   "cell_type": "code",
   "execution_count": 2,
   "metadata": {},
   "outputs": [],
   "source": [
    "X_train = np.load(\"X_train.npy\", allow_pickle=True)\n",
    "Y_train = np.load(\"y_train.npy\", allow_pickle=True)\n",
    "X_test = np.load(\"X_test.npy\", allow_pickle=True)\n",
    "Y_test = np.load(\"y_test.npy\", allow_pickle=True)\n",
    "Yc_train = np.load(\"yc_train.npy\", allow_pickle=True)\n",
    "Yc_test = np.load(\"yc_test.npy\", allow_pickle=True)"
   ]
  },
  {
   "cell_type": "code",
   "execution_count": 3,
   "metadata": {},
   "outputs": [],
   "source": [
    "class LSTMHyperModel(HyperModel):\n",
    "    \n",
    "    def __init__(self, input_dim,feature_size,output_dim):\n",
    "        self.input_dim = input_dim\n",
    "        self.feature_size = feature_size\n",
    "        self.output_dim = output_dim\n",
    "        \n",
    "    def build(self, hp):\n",
    "        model = Sequential()\n",
    "        model.add(\n",
    "            Bidirectional(LSTM(\n",
    "                units=hp.Int('units_directional', min_value = 32,max_value =512,step = 32),\n",
    "                activation='tanh',\n",
    "                input_shape=(input_dim,feature_size)\n",
    "                )\n",
    "            )\n",
    "        )\n",
    "        \n",
    "        model.add(\n",
    "            Dense(\n",
    "                units=hp.Int('units_dense', min_value = 32,max_value =512,step = 32),\n",
    "                activation=hp.Choice(\n",
    "                    'dense_activation',\n",
    "                    values=['relu', 'tanh', 'sigmoid'],\n",
    "                    default='relu')\n",
    "            )\n",
    "        )\n",
    "        \n",
    "        model.add(Dense(1))\n",
    "        \n",
    "        model.compile(\n",
    "            optimizer=tensorflow.keras.optimizers.Adam(hp.Choice('learning_rate',\n",
    "                      values=[1e-2, 1e-3, 1e-4,2e-2, 2e-3, 2e-4,3e-2, 3e-3, 3e-4,4e-2, 4e-3, 4e-4,5e-2, 5e-3, 5e-4])),loss='mse',metrics=['mse']\n",
    "        )\n",
    "        \n",
    "        return model"
   ]
  },
  {
   "cell_type": "code",
   "execution_count": 4,
   "metadata": {},
   "outputs": [],
   "source": [
    "input_dim = X_train.shape[1]\n",
    "feature_size = X_train.shape[2]\n",
    "output_dim = Y_train.shape[1]\n",
    "hypermodel = LSTMHyperModel(input_dim,feature_size,output_dim)"
   ]
  },
  {
   "cell_type": "code",
   "execution_count": 5,
   "metadata": {},
   "outputs": [
    {
     "name": "stdout",
     "output_type": "stream",
     "text": [
      "INFO:tensorflow:Reloading Oracle from existing project .\\untitled_project\\oracle.json\n",
      "INFO:tensorflow:Reloading Tuner from .\\untitled_project\\tuner0.json\n",
      "INFO:tensorflow:Oracle triggered exit\n",
      "51/51 [==============================] - 20s 7ms/step - loss: 0.0095 - mse: 0.0095\n"
     ]
    },
    {
     "data": {
      "text/plain": [
       "[0.023471442982554436, 0.023471442982554436]"
      ]
     },
     "execution_count": 5,
     "metadata": {},
     "output_type": "execute_result"
    }
   ],
   "source": [
    "tuner_bo = BayesianOptimization(\n",
    "            hypermodel,\n",
    "            objective='val_loss',\n",
    "            max_trials=10,\n",
    "            seed=42,\n",
    "            executions_per_trial=2\n",
    "        )\n",
    "tuner_bo.search(X_train, Y_train, epochs=100, validation_data=(X_test, Y_test), verbose=4)\n",
    "best_model = tuner_bo.get_best_models(num_models=1)[0]\n",
    "best_model.evaluate(X_test, Y_test)"
   ]
  },
  {
   "cell_type": "code",
   "execution_count": 6,
   "metadata": {},
   "outputs": [
    {
     "name": "stdout",
     "output_type": "stream",
     "text": [
      "Results summary\n",
      "Results in .\\untitled_project\n",
      "Showing 10 best trials\n",
      "Objective(name='mse', direction='min')\n",
      "Trial summary\n",
      "Hyperparameters:\n",
      "units_directional: 384\n",
      "units_dense: 32\n",
      "dense_activation: relu\n",
      "learning_rate: 0.002\n",
      "Score: 0.00026059716765303165\n",
      "Trial summary\n",
      "Hyperparameters:\n",
      "units_directional: 128\n",
      "units_dense: 128\n",
      "dense_activation: relu\n",
      "learning_rate: 0.0004\n",
      "Score: 0.00027487549232319\n",
      "Trial summary\n",
      "Hyperparameters:\n",
      "units_directional: 128\n",
      "units_dense: 160\n",
      "dense_activation: relu\n",
      "learning_rate: 0.001\n",
      "Score: 0.0002798866044031456\n",
      "Trial summary\n",
      "Hyperparameters:\n",
      "units_directional: 352\n",
      "units_dense: 64\n",
      "dense_activation: relu\n",
      "learning_rate: 0.005\n",
      "Score: 0.00031532449065707624\n",
      "Trial summary\n",
      "Hyperparameters:\n",
      "units_directional: 448\n",
      "units_dense: 192\n",
      "dense_activation: sigmoid\n",
      "learning_rate: 0.001\n",
      "Score: 0.0003377930406713858\n",
      "Trial summary\n",
      "Hyperparameters:\n",
      "units_directional: 224\n",
      "units_dense: 480\n",
      "dense_activation: sigmoid\n",
      "learning_rate: 0.0003\n",
      "Score: 0.0003746415168279782\n",
      "Trial summary\n",
      "Hyperparameters:\n",
      "units_directional: 352\n",
      "units_dense: 64\n",
      "dense_activation: tanh\n",
      "learning_rate: 0.002\n",
      "Score: 0.00037691953184548765\n",
      "Trial summary\n",
      "Hyperparameters:\n",
      "units_directional: 128\n",
      "units_dense: 288\n",
      "dense_activation: sigmoid\n",
      "learning_rate: 0.004\n",
      "Score: 0.0005059686664026231\n",
      "Trial summary\n",
      "Hyperparameters:\n",
      "units_directional: 96\n",
      "units_dense: 480\n",
      "dense_activation: tanh\n",
      "learning_rate: 0.05\n",
      "Score: 0.003975111758336425\n",
      "Trial summary\n",
      "Hyperparameters:\n",
      "units_directional: 384\n",
      "units_dense: 96\n",
      "dense_activation: tanh\n",
      "learning_rate: 0.04\n",
      "Score: 0.08306466415524483\n"
     ]
    }
   ],
   "source": [
    "tuner_bo.results_summary()"
   ]
  },
  {
   "cell_type": "code",
   "execution_count": null,
   "metadata": {},
   "outputs": [],
   "source": []
  }
 ],
 "metadata": {
  "kernelspec": {
   "display_name": "Python 3",
   "language": "python",
   "name": "python3"
  },
  "language_info": {
   "codemirror_mode": {
    "name": "ipython",
    "version": 3
   },
   "file_extension": ".py",
   "mimetype": "text/x-python",
   "name": "python",
   "nbconvert_exporter": "python",
   "pygments_lexer": "ipython3",
   "version": "3.8.5"
  }
 },
 "nbformat": 4,
 "nbformat_minor": 4
}
